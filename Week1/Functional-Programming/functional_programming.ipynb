{
 "cells": [
  {
   "cell_type": "markdown",
   "metadata": {
    "colab_type": "text",
    "id": "6I1W1y5zDCIN"
   },
   "source": [
    "# Before your start:\n",
    "- Comment as much as you can\n",
    "- Happy learning!"
   ]
  },
  {
   "cell_type": "code",
   "execution_count": null,
   "metadata": {
    "colab": {},
    "colab_type": "code",
    "id": "1t-NDi5NDCIW"
   },
   "outputs": [],
   "source": [
    "import numpy as np\n",
    "import pandas as pd"
   ]
  },
  {
   "cell_type": "markdown",
   "metadata": {
    "colab_type": "text",
    "id": "P53qCn3xDCIg"
   },
   "source": [
    "# Challenge - Inside a function\n",
    "You are already familiar with several built in functions on python as well as libraries. Let's try to figure out how they are made in pure python. "
   ]
  },
  {
   "cell_type": "markdown",
   "metadata": {
    "colab_type": "text",
    "id": "7Vq9tOLcDCIi"
   },
   "source": [
    "Create a function that returns the count of a list of numbers"
   ]
  },
  {
   "cell_type": "code",
   "execution_count": null,
   "metadata": {
    "colab": {},
    "colab_type": "code",
    "id": "usAQavx0DCIl"
   },
   "outputs": [],
   "source": [
    "# Your code here:\n",
    "def count_numbers(lst):\n",
    "    return len(lst)\n",
    "\n",
    "count_numbers([1, 2, 3, 87, 90])"
   ]
  },
  {
   "cell_type": "markdown",
   "metadata": {
    "colab_type": "text",
    "id": "02PYrNc5DCIt"
   },
   "source": [
    "Create a function that returns the mean of a list of numbers"
   ]
  },
  {
   "cell_type": "code",
   "execution_count": null,
   "metadata": {
    "colab": {},
    "colab_type": "code",
    "id": "nQpYuTmgDCIx"
   },
   "outputs": [],
   "source": [
    "# Your code here:\n",
    "def mean_numbers(lst):\n",
    "    return (sum(lst) / len(lst))\n",
    "\n",
    "mean_numbers([1, 2, 3, 4, 5])\n"
   ]
  },
  {
   "cell_type": "markdown",
   "metadata": {
    "colab_type": "text",
    "id": "xy1rA4EeDCI5"
   },
   "source": [
    "Create a function that returns the standard deviation of a list of numbers using the previous functions you created. "
   ]
  },
  {
   "cell_type": "code",
   "execution_count": null,
   "metadata": {
    "colab": {},
    "colab_type": "code",
    "id": "jmvcGVIwDCI7"
   },
   "outputs": [],
   "source": [
    "# Your code here:\n",
    "def std_numbers(lst):\n",
    "    return np.sqrt(sum([(number - mean_numbers(lst))**2 for number in lst]) / count_numbers(lst))\n",
    "std_numbers([1, 2, 3, 4, 5])\n",
    "\n",
    "        \n",
    "# Also:\n",
    "'''\n",
    "def std2(lst):\n",
    "    return np.std(lst)\n",
    "std2([1, 2, 3, 94, 5])\n",
    "'''"
   ]
  },
  {
   "cell_type": "markdown",
   "metadata": {
    "colab_type": "text",
    "id": "Dro2ll4WDCJB"
   },
   "source": [
    "Create a function that returns the count, mean and standard deviation of a given list. Document this function using triple quotes, your documentation should have description, parameters, returns and examples. "
   ]
  },
  {
   "cell_type": "code",
   "execution_count": null,
   "metadata": {
    "colab": {},
    "colab_type": "code",
    "id": "FQEugvUuDCJE"
   },
   "outputs": [],
   "source": [
    "# Your code here:\n",
    "\n",
    "#One oh the ways of doing that is using the functions already built above.\n",
    "\n",
    "'''This function \"count_numbers\" receives a list as the only argument.\n",
    "Then it calls three functions, pass the list as the functions arguments(lst) and return a string with the count,\n",
    "mean and standard deviation of a given list.\n",
    "The three functions receive are:\n",
    "\n",
    "1 - count_numbers(lst) -> it returns the length of the list, which is the same as the number of elements of the list;\n",
    "2 - mean_numbers(lst)-> it returns the mean of the numbers in the given list;\n",
    "3 - std_numbers(lst) -> it returns the standard deviation of the list using the Numpy package for scientific computing with Python.\n",
    "'''\n",
    "\n",
    "def count_mean_std(lst):\n",
    "    return f\"The count of the given list is {count_numbers(lst)} numbers, its mean is {mean_numbers(lst)} and its standard deviation is {std_numbers(lst)}.\"\n",
    "\n",
    "#Example:\n",
    "\n",
    "example = [2, 4, 5, 7, 10]\n",
    "count_mean_std(example)\n",
    "    "
   ]
  },
  {
   "cell_type": "markdown",
   "metadata": {
    "colab_type": "text",
    "id": "-_YUdHo7DCJJ"
   },
   "source": [
    "# Challenge  - String Cleaning\n",
    "When working with textual data you will often have to clean it before being able to analyze it. Create a function that receives a string and returns that string in all lower case, without special characters and in alphabetical order. "
   ]
  },
  {
   "cell_type": "code",
   "execution_count": null,
   "metadata": {
    "colab": {},
    "colab_type": "code",
    "id": "Lv7ztTkEDCJK"
   },
   "outputs": [],
   "source": [
    "# Your code here:\n",
    "def clean_string(arg):\n",
    "    import re\n",
    "    arg = arg.lower()\n",
    "    print(arg)\n",
    "    x = re.findall('\\w+', arg)\n",
    "    #print(x)\n",
    "    x.sort()\n",
    "    y = ' '.join(x)\n",
    "    return y\n",
    "\n",
    "#Example\n",
    "clean_string('When working with textual data you will often have to clean it before being able to analyze it.')"
   ]
  },
  {
   "cell_type": "markdown",
   "metadata": {
    "colab_type": "text",
    "id": "23s3vEQ-DCJO"
   },
   "source": [
    "# Challenge  - Classification\n",
    "Sometimes datasets provide very good and precise information but not in the way we need to use it. In this challenge, make a function that takes a numeric value (age or income for example) and turns it into a category (could be from Very Low to Very High or rated from 0 to 10). \n"
   ]
  },
  {
   "cell_type": "code",
   "execution_count": null,
   "metadata": {
    "colab": {},
    "colab_type": "code",
    "id": "M4tbB_zFDCJP"
   },
   "outputs": [],
   "source": [
    "# Your code here:\n",
    "\n",
    "def how_old_are_you(age):\n",
    "    if age <= 13:\n",
    "        return 'You are just a child! Turn off the computer and go play outside!'\n",
    "    elif age > 13 and age <= 20:\n",
    "        return 'You are a teenager and very young. Enjoy some of the best years of your life!'\n",
    "    elif age > 20 and age <= 45:\n",
    "        return 'You are still young, but life is hard now!'\n",
    "    elif age > 45 and age <= 65:\n",
    "        return \"You are middle aged! Life goes fast, doesn't it?\" \n",
    "    else:\n",
    "        return 'You are screwed!'\n",
    "#Example\n",
    "how_old_are_you(46)"
   ]
  },
  {
   "cell_type": "markdown",
   "metadata": {
    "colab_type": "text",
    "id": "qgCz4w1XDCJU"
   },
   "source": [
    "# Challenge  - Recursion \n",
    "In some cases it is interesting to build a function that calls itself. Use a recursive function that asks for an input from the users age and keeps asking for it until the input is a number between 0 and 150. "
   ]
  },
  {
   "cell_type": "code",
   "execution_count": null,
   "metadata": {
    "colab": {},
    "colab_type": "code",
    "id": "ncLwOUUhDCJV"
   },
   "outputs": [],
   "source": [
    "# Your code here:\n",
    "\n",
    "def user_input():\n",
    "    age = int(input(\"Enter your age, please.\"))\n",
    "    if age < 0 or age > 150:\n",
    "        return user_input()\n",
    "    if age <= 13:\n",
    "        return 'You are just a child! Turn off the computer and go play outside!'\n",
    "    if age > 13 and age <= 20:\n",
    "        return 'You are a teenager and very young. Enjoy some of the best years of your life!'\n",
    "    if age > 20 and age <= 45:\n",
    "        return 'You are still young, but life is hard now!'\n",
    "    if age > 45 and age <= 65:\n",
    "        return \"You are middle aged! Life goes fast, doesn't it?\" \n",
    "    else:\n",
    "        return 'You are screwed!'\n",
    "    \n",
    "#Example:\n",
    "user_input()"
   ]
  },
  {
   "cell_type": "markdown",
   "metadata": {
    "colab_type": "text",
    "id": "k0oT8Xo2DCJa"
   },
   "source": [
    "# Challenge - Global and local variables "
   ]
  },
  {
   "cell_type": "markdown",
   "metadata": {
    "colab_type": "text",
    "id": "rBQkdI76DCJb"
   },
   "source": [
    "Make a function that returns the buzz string in alphabetical order  \n",
    "\n",
    "Expected output:\n",
    "````python\n",
    "'AI Big Data Data Warehouse Machine Learning Pipeline'\n",
    "````"
   ]
  },
  {
   "cell_type": "code",
   "execution_count": null,
   "metadata": {
    "colab": {},
    "colab_type": "code",
    "id": "L4BnnsLnDCJc"
   },
   "outputs": [],
   "source": [
    "buzz = \"Big Data, Machine Learning, AI, Data Warehouse, Pipeline\"\n",
    "\n",
    "def alphabetical_orderer(arg):\n",
    "    x = arg.split(', ')\n",
    "    x.sort()\n",
    "    y = ' '.join(x)\n",
    "    return y\n",
    "\n",
    "#Example:\n",
    "alphabetical_orderer(buzz)"
   ]
  },
  {
   "cell_type": "markdown",
   "metadata": {
    "colab_type": "text",
    "id": "b5b4z7e4DCJg"
   },
   "source": [
    "Make a function without return that modifies the buzz string and puts it in alphabetical order\n",
    "\n",
    "Expected output:\n",
    "````python\n",
    "'AI Big Data Data Warehouse Machine Learning Pipeline'\n",
    "````"
   ]
  },
  {
   "cell_type": "code",
   "execution_count": null,
   "metadata": {
    "colab": {},
    "colab_type": "code",
    "id": "PxCWhN7IDCJi"
   },
   "outputs": [],
   "source": [
    "buzz = \"Big Data, Machine Learning, AI, Data Warehouse, Pipeline\"\n",
    "\n",
    "def alphabetical_orderer2(arg):\n",
    "    x = arg.split(', ')\n",
    "    print(x)\n",
    "    x.sort()\n",
    "    print(x)\n",
    "    global buzz\n",
    "    buzz = ' '.join(x)\n",
    "   \n",
    "#Example:\n",
    "alphabetical_orderer2(buzz)\n",
    "print(buzz)"
   ]
  },
  {
   "cell_type": "markdown",
   "metadata": {
    "colab_type": "text",
    "id": "fw4vO7R-DCJr"
   },
   "source": [
    "# Bonus Challenge  - Applying Functions to DataFrames\n",
    "\n",
    "In this challenge, we will look at how to transform cells or entire columns at once.\n"
   ]
  },
  {
   "cell_type": "code",
   "execution_count": null,
   "metadata": {
    "colab": {},
    "colab_type": "code",
    "id": "05TgMvpdDCJs"
   },
   "outputs": [],
   "source": [
    "import pandas as pd"
   ]
  },
  {
   "cell_type": "code",
   "execution_count": null,
   "metadata": {
    "colab": {},
    "colab_type": "code",
    "id": "1N9fNV98DCJw"
   },
   "outputs": [],
   "source": [
    "iris_numeric = pd.DataFrame(data =[[5.1,3.5,1.4,0.2], [4.9,3,1.4,0.2],[4.7,3.2,1.3,0.2],[4.6,3.1,1.5,0.2],[5,3.6,1.4,0.2],[5.4,3.9,1.7,0.4],[4.6,3.4,1.4,0.3],[5,3.4,1.5,0.2],[4.4,2.9,1.4,0.2],[4.9,3.1,1.5,0.1]],columns = ['sepal_length', 'sepal_width', 'petal_length','petal_width'])"
   ]
  },
  {
   "cell_type": "markdown",
   "metadata": {
    "colab_type": "text",
    "id": "62v-80yZDCJ1"
   },
   "source": [
    "Let's look at the dataset using the `head` function.\n",
    "\n",
    "Expected output:\n",
    "\n",
    "|    |   sepal_length |   sepal_width |   petal_length |   petal_width |\n",
    "|---:|---------------:|--------------:|---------------:|--------------:|\n",
    "|  0 |            5.1 |           3.5 |            1.4 |           0.2 |\n",
    "|  1 |            4.9 |           3   |            1.4 |           0.2 |\n",
    "|  2 |            4.7 |           3.2 |            1.3 |           0.2 |\n",
    "|  3 |            4.6 |           3.1 |            1.5 |           0.2 |\n",
    "|  4 |            5   |           3.6 |            1.4 |           0.2 |"
   ]
  },
  {
   "cell_type": "code",
   "execution_count": null,
   "metadata": {
    "colab": {},
    "colab_type": "code",
    "id": "hTlLCpp_DCJ2"
   },
   "outputs": [],
   "source": [
    "# Your code here:\n",
    "iris_numeric.head()"
   ]
  },
  {
   "cell_type": "markdown",
   "metadata": {
    "colab_type": "text",
    "id": "y1VDf8KSDCJ6"
   },
   "source": [
    "Let's start off by using built-in functions. Try to use the numpy mean function and describe what happens in the comments of the code.\n",
    "\n",
    "Expected output:\n",
    "````python\n",
    "sepal_length    4.86\n",
    "sepal_width     3.31\n",
    "petal_length    1.45\n",
    "petal_width     0.22\n",
    "dtype: float64\n",
    "````"
   ]
  },
  {
   "cell_type": "code",
   "execution_count": null,
   "metadata": {
    "colab": {},
    "colab_type": "code",
    "id": "55QqDcFkDCJ7"
   },
   "outputs": [],
   "source": [
    "'''\n",
    "To using the numpy functions, firstly it is necessary to import the NumPy package using the command \"import\". \n",
    "To avoiding having to write \"numpy\" whenever it is needed, it was imported as \"np\".\n",
    "Secondly, the NumPy built-in function \"mean\" was used as np.mean() and the variable \"iris_numeric\" was passed as its argument.\n",
    "The \"mean\" function calculated the mean of each column of the dataset and its output was stored in the variable \"mean_df\".\n",
    "Finally, the variable \"mean_df\" was printed with the results.\n",
    "'''\n",
    "\n",
    "#My code here:\n",
    "\n",
    "import numpy as np\n",
    "mean_df = np.mean(iris_numeric)\n",
    "print(mean_df)"
   ]
  },
  {
   "cell_type": "markdown",
   "metadata": {
    "colab_type": "text",
    "id": "qrCDudyHDCJ_"
   },
   "source": [
    "Next, we'll use the standard deviation function in numpy (np.std). Describe what happened in the comments.\n",
    "\n",
    "Expected output:\n",
    "````python\n",
    "sepal_length    0.291357\n",
    "sepal_width     0.307137\n",
    "petal_length    0.108012\n",
    "petal_width     0.078881\n",
    "dtype: float64\n",
    "````"
   ]
  },
  {
   "cell_type": "code",
   "execution_count": null,
   "metadata": {
    "colab": {},
    "colab_type": "code",
    "id": "00RaSSBVDCKA"
   },
   "outputs": [],
   "source": [
    "'''\n",
    "The NumPy built-in function \"std\" was used as np.std() and the variable \"iris_numeric\" was passed as its argument.\n",
    "The \"std\" function calculated the standard deviation of each column of the dataset and its output was stored in the variable \"std_df\".\n",
    "Finally, the variable \"std_df\" was printed with the results.\n",
    "'''\n",
    "\n",
    "#My code here:\n",
    "\n",
    "std_df = np.std(iris_numeric)\n",
    "print(std_df)"
   ]
  },
  {
   "cell_type": "markdown",
   "metadata": {
    "colab_type": "text",
    "id": "68F-SuOnDCKD"
   },
   "source": [
    "The measurements are in centimeters. Let's convert them all to inches. We will write a function that converts centimeters to inches in the cell below. Recall that 1cm = 0.393701in."
   ]
  },
  {
   "cell_type": "code",
   "execution_count": null,
   "metadata": {
    "colab": {},
    "colab_type": "code",
    "id": "T8tvoXdCDCKE"
   },
   "outputs": [],
   "source": [
    "def cm_to_in(x):\n",
    "    # This function takes in a numeric value in centimeters and converts it to inches\n",
    "    # Input: numeric value\n",
    "    # Output: float\n",
    "    \n",
    "    # Sample Input: 1.0\n",
    "    # Sample Output: 0.393701\n",
    "    \n",
    "    # Your code here:\n",
    "    \n",
    "    x *= 0.393701\n",
    "    return x\n",
    "\n",
    "#Examples:\n",
    "\n",
    "cm_to_in(iris_numeric)"
   ]
  },
  {
   "cell_type": "markdown",
   "metadata": {
    "colab_type": "text",
    "id": "poXtnmphDCKK"
   },
   "source": [
    "Now convert all columns in `iris_numeric` to inches in the cell below. We like to think of functional transformations as immutable. Therefore, save the transformed data in a dataframe called `iris_inch`."
   ]
  },
  {
   "cell_type": "code",
   "execution_count": null,
   "metadata": {
    "colab": {},
    "colab_type": "code",
    "id": "GnW2yEsDDCKL"
   },
   "outputs": [],
   "source": [
    "# Your code here:\n",
    "\n",
    "def in_to_cm(x):\n",
    "    # This function takes in a numeric value in inches and converts it to centimeters\n",
    "    # Input: numeric value\n",
    "    # Output: float\n",
    "    \n",
    "    # Sample Input: 0.393701\n",
    "    # Sample Output: 1.0\n",
    "    \n",
    "    # Your code here:\n",
    "    \n",
    "    x /= 0.393701\n",
    "    return x\n",
    "\n",
    "#Example:\n",
    "\n",
    "in_to_cm(iris_numeric)"
   ]
  },
  {
   "cell_type": "markdown",
   "metadata": {
    "colab_type": "text",
    "id": "PgrWISNFDCKN"
   },
   "source": [
    "We have just found that the original measurements were off by a constant. Define the global constant `error` and set it to 2. Write a function that uses the global constant and adds it to each cell in the dataframe. Apply this function to `iris_numeric` and save the result in `iris_constant`."
   ]
  },
  {
   "cell_type": "code",
   "execution_count": null,
   "metadata": {
    "colab": {},
    "colab_type": "code",
    "id": "Wy9RKxHfDCKO"
   },
   "outputs": [],
   "source": [
    "# Define constant below:\n",
    "error = 2\n",
    "\n",
    "def add_constant(x):\n",
    "    # This function adds a global constant to our input.\n",
    "    # Input: numeric value\n",
    "    # Output: numeric value\n",
    "    \n",
    "    # Your code here:\n",
    "    iris_constant = iris_numeric + x\n",
    "    return iris_constant\n",
    "\n",
    "#Example:\n",
    "add_constant(error)"
   ]
  },
  {
   "cell_type": "markdown",
   "metadata": {
    "colab_type": "text",
    "id": "-AYaBeqqDCKT"
   },
   "source": [
    "Read more about applying functions to either rows or columns [here](https://pandas.pydata.org/pandas-docs/stable/generated/pandas.DataFrame.apply.html) and write a function that computes the maximum value for each row of `iris_numeric`"
   ]
  },
  {
   "cell_type": "code",
   "execution_count": null,
   "metadata": {
    "colab": {},
    "colab_type": "code",
    "id": "tTmz2p6LDCKV"
   },
   "outputs": [],
   "source": [
    "# Your code here:\n",
    "\n",
    "maximum_constant = iris_numeric.max(axis=0)\n",
    "\n",
    "#Example:\n",
    "print(maximum_constant)"
   ]
  },
  {
   "cell_type": "markdown",
   "metadata": {
    "colab_type": "text",
    "id": "ItoYvDlqDCKZ"
   },
   "source": [
    "Compute the combined lengths for each row and the combined widths for each row using a function. Assign these values to new columns `total_length` and `total_width`."
   ]
  },
  {
   "cell_type": "code",
   "execution_count": null,
   "metadata": {
    "colab": {},
    "colab_type": "code",
    "id": "7g8Cl7jgDCKa"
   },
   "outputs": [],
   "source": [
    "# Your code here:\n",
    "\n",
    "\n",
    "for index, row in iris_numeric.iterrows():\n",
    "    print(row['sepal_length'], row['petal_length'])\n",
    "    \n",
    "    [sum(row['sepal_length']) + sum(row['petal_length']) for index, row in iris_numeric.iterrows()]\n",
    "    \n",
    "    \n",
    "    \n",
    "    \n",
    "# Answer code here:\n",
    "total_length = iris_numeric[['sepal_length','petal_length']].apply(sum, axis=1);\n",
    "total_width = iris_numeric[['sepal_width','petal_width']].apply(sum, axis=1);\n"
   ]
  },
  {
   "cell_type": "code",
   "execution_count": null,
   "metadata": {
    "colab": {},
    "colab_type": "code",
    "id": "8wHyAVDoDCKe"
   },
   "outputs": [],
   "source": [
    "    [row['sepal_length'] for index, row in iris_numeric.iterrows()]\n"
   ]
  }
 ],
 "metadata": {
  "colab": {
   "name": "functional_programming.ipynb",
   "provenance": []
  },
  "hide_input": false,
  "kernelspec": {
   "display_name": "Python 3",
   "language": "python",
   "name": "python3"
  },
  "language_info": {
   "codemirror_mode": {
    "name": "ipython",
    "version": 3
   },
   "file_extension": ".py",
   "mimetype": "text/x-python",
   "name": "python",
   "nbconvert_exporter": "python",
   "pygments_lexer": "ipython3",
   "version": "3.8.2"
  },
  "toc": {
   "base_numbering": 1,
   "nav_menu": {},
   "number_sections": true,
   "sideBar": true,
   "skip_h1_title": false,
   "title_cell": "Table of Contents",
   "title_sidebar": "Contents",
   "toc_cell": false,
   "toc_position": {},
   "toc_section_display": true,
   "toc_window_display": false
  },
  "varInspector": {
   "cols": {
    "lenName": 16,
    "lenType": 16,
    "lenVar": 40
   },
   "kernels_config": {
    "python": {
     "delete_cmd_postfix": "",
     "delete_cmd_prefix": "del ",
     "library": "var_list.py",
     "varRefreshCmd": "print(var_dic_list())"
    },
    "r": {
     "delete_cmd_postfix": ") ",
     "delete_cmd_prefix": "rm(",
     "library": "var_list.r",
     "varRefreshCmd": "cat(var_dic_list()) "
    }
   },
   "types_to_exclude": [
    "module",
    "function",
    "builtin_function_or_method",
    "instance",
    "_Feature"
   ],
   "window_display": false
  }
 },
 "nbformat": 4,
 "nbformat_minor": 1
}
